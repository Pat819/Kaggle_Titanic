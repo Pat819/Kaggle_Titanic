{
 "cells": [
  {
   "cell_type": "markdown",
   "metadata": {},
   "source": [
    "Import packages\n"
   ]
  },
  {
   "cell_type": "code",
   "execution_count": 1,
   "metadata": {},
   "outputs": [],
   "source": [
    "import pandas as pd\n",
    "import numpy as np\n",
    "import re\n",
    "\n",
    "import seaborn as sns\n",
    "import matplotlib.pyplot as plt\n",
    "\n",
    "\n",
    "import sklearn\n",
    "from sklearn.pipeline import Pipeline\n",
    "from sklearn.preprocessing import OneHotEncoder\n",
    "from sklearn.model_selection import train_test_split\n",
    "from sklearn.linear_model import LogisticRegression\n",
    "from sklearn.model_selection import GridSearchCV"
   ]
  },
  {
   "cell_type": "markdown",
   "metadata": {},
   "source": [
    "Import data."
   ]
  },
  {
   "cell_type": "code",
   "execution_count": 2,
   "metadata": {},
   "outputs": [],
   "source": [
    "train=pd.read_csv(\"C:/Users/kpleu/Desktop/Git/Kaggle_Titanic/data/train.csv\")\n",
    "predict_set=pd.read_csv(\"C:/Users/kpleu/Desktop/Git/Kaggle_Titanic/data/test.csv\")\n",
    "\n",
    "# Combine Dataset for cleaning\n",
    "dataset_cleaning=[train,predict_set]"
   ]
  },
  {
   "cell_type": "markdown",
   "metadata": {},
   "source": [
    "Exploratory data analysis"
   ]
  },
  {
   "cell_type": "markdown",
   "metadata": {},
   "source": [
    "Data cleaning and preprocessing:\n",
    "\n",
    "1. Check for NaN values and decide the treatment e.g. removing the entries or imputing with meaningful values\n",
    "2. Convert categorical data into numerical e.g. onehotencoder\n",
    "3. Look for any abnormal data via a scatterplot matrix which also provide a very first impression of how the data looks like"
   ]
  },
  {
   "cell_type": "code",
   "execution_count": 3,
   "metadata": {},
   "outputs": [
    {
     "name": "stdout",
     "output_type": "stream",
     "text": [
      "<class 'pandas.core.frame.DataFrame'>\n",
      "RangeIndex: 891 entries, 0 to 890\n",
      "Data columns (total 12 columns):\n",
      "PassengerId    891 non-null int64\n",
      "Survived       891 non-null int64\n",
      "Pclass         891 non-null int64\n",
      "Name           891 non-null object\n",
      "Sex            891 non-null object\n",
      "Age            714 non-null float64\n",
      "SibSp          891 non-null int64\n",
      "Parch          891 non-null int64\n",
      "Ticket         891 non-null object\n",
      "Fare           891 non-null float64\n",
      "Cabin          204 non-null object\n",
      "Embarked       889 non-null object\n",
      "dtypes: float64(2), int64(5), object(5)\n",
      "memory usage: 83.6+ KB\n"
     ]
    }
   ],
   "source": [
    "train.info()"
   ]
  },
  {
   "cell_type": "code",
   "execution_count": 4,
   "metadata": {},
   "outputs": [],
   "source": [
    "#sns.pairplot(train.drop(['PassengerId', 'Name','Ticket'], axis=1), hue=\"Survived\")"
   ]
  },
  {
   "cell_type": "code",
   "execution_count": 5,
   "metadata": {},
   "outputs": [
    {
     "data": {
      "text/html": [
       "<div>\n",
       "<style scoped>\n",
       "    .dataframe tbody tr th:only-of-type {\n",
       "        vertical-align: middle;\n",
       "    }\n",
       "\n",
       "    .dataframe tbody tr th {\n",
       "        vertical-align: top;\n",
       "    }\n",
       "\n",
       "    .dataframe thead th {\n",
       "        text-align: right;\n",
       "    }\n",
       "</style>\n",
       "<table border=\"1\" class=\"dataframe\">\n",
       "  <thead>\n",
       "    <tr style=\"text-align: right;\">\n",
       "      <th></th>\n",
       "      <th>PassengerId</th>\n",
       "      <th>Survived</th>\n",
       "      <th>Pclass</th>\n",
       "      <th>Age</th>\n",
       "      <th>SibSp</th>\n",
       "      <th>Parch</th>\n",
       "      <th>Fare</th>\n",
       "    </tr>\n",
       "  </thead>\n",
       "  <tbody>\n",
       "    <tr>\n",
       "      <th>count</th>\n",
       "      <td>891.000000</td>\n",
       "      <td>891.000000</td>\n",
       "      <td>891.000000</td>\n",
       "      <td>714.000000</td>\n",
       "      <td>891.000000</td>\n",
       "      <td>891.000000</td>\n",
       "      <td>891.000000</td>\n",
       "    </tr>\n",
       "    <tr>\n",
       "      <th>mean</th>\n",
       "      <td>446.000000</td>\n",
       "      <td>0.383838</td>\n",
       "      <td>2.308642</td>\n",
       "      <td>29.699118</td>\n",
       "      <td>0.523008</td>\n",
       "      <td>0.381594</td>\n",
       "      <td>32.204208</td>\n",
       "    </tr>\n",
       "    <tr>\n",
       "      <th>std</th>\n",
       "      <td>257.353842</td>\n",
       "      <td>0.486592</td>\n",
       "      <td>0.836071</td>\n",
       "      <td>14.526497</td>\n",
       "      <td>1.102743</td>\n",
       "      <td>0.806057</td>\n",
       "      <td>49.693429</td>\n",
       "    </tr>\n",
       "    <tr>\n",
       "      <th>min</th>\n",
       "      <td>1.000000</td>\n",
       "      <td>0.000000</td>\n",
       "      <td>1.000000</td>\n",
       "      <td>0.420000</td>\n",
       "      <td>0.000000</td>\n",
       "      <td>0.000000</td>\n",
       "      <td>0.000000</td>\n",
       "    </tr>\n",
       "    <tr>\n",
       "      <th>25%</th>\n",
       "      <td>223.500000</td>\n",
       "      <td>0.000000</td>\n",
       "      <td>2.000000</td>\n",
       "      <td>20.125000</td>\n",
       "      <td>0.000000</td>\n",
       "      <td>0.000000</td>\n",
       "      <td>7.910400</td>\n",
       "    </tr>\n",
       "    <tr>\n",
       "      <th>50%</th>\n",
       "      <td>446.000000</td>\n",
       "      <td>0.000000</td>\n",
       "      <td>3.000000</td>\n",
       "      <td>28.000000</td>\n",
       "      <td>0.000000</td>\n",
       "      <td>0.000000</td>\n",
       "      <td>14.454200</td>\n",
       "    </tr>\n",
       "    <tr>\n",
       "      <th>75%</th>\n",
       "      <td>668.500000</td>\n",
       "      <td>1.000000</td>\n",
       "      <td>3.000000</td>\n",
       "      <td>38.000000</td>\n",
       "      <td>1.000000</td>\n",
       "      <td>0.000000</td>\n",
       "      <td>31.000000</td>\n",
       "    </tr>\n",
       "    <tr>\n",
       "      <th>max</th>\n",
       "      <td>891.000000</td>\n",
       "      <td>1.000000</td>\n",
       "      <td>3.000000</td>\n",
       "      <td>80.000000</td>\n",
       "      <td>8.000000</td>\n",
       "      <td>6.000000</td>\n",
       "      <td>512.329200</td>\n",
       "    </tr>\n",
       "  </tbody>\n",
       "</table>\n",
       "</div>"
      ],
      "text/plain": [
       "       PassengerId    Survived      Pclass         Age       SibSp  \\\n",
       "count   891.000000  891.000000  891.000000  714.000000  891.000000   \n",
       "mean    446.000000    0.383838    2.308642   29.699118    0.523008   \n",
       "std     257.353842    0.486592    0.836071   14.526497    1.102743   \n",
       "min       1.000000    0.000000    1.000000    0.420000    0.000000   \n",
       "25%     223.500000    0.000000    2.000000   20.125000    0.000000   \n",
       "50%     446.000000    0.000000    3.000000   28.000000    0.000000   \n",
       "75%     668.500000    1.000000    3.000000   38.000000    1.000000   \n",
       "max     891.000000    1.000000    3.000000   80.000000    8.000000   \n",
       "\n",
       "            Parch        Fare  \n",
       "count  891.000000  891.000000  \n",
       "mean     0.381594   32.204208  \n",
       "std      0.806057   49.693429  \n",
       "min      0.000000    0.000000  \n",
       "25%      0.000000    7.910400  \n",
       "50%      0.000000   14.454200  \n",
       "75%      0.000000   31.000000  \n",
       "max      6.000000  512.329200  "
      ]
     },
     "execution_count": 5,
     "metadata": {},
     "output_type": "execute_result"
    }
   ],
   "source": [
    "train.describe()"
   ]
  },
  {
   "cell_type": "code",
   "execution_count": 6,
   "metadata": {},
   "outputs": [],
   "source": [
    "# Sex and Embarked mapping\n",
    "\n",
    "# Define recode_sex()\n",
    "def recode_Sex(value):\n",
    "    # Return 0 if value is 'female'\n",
    "    if value == 'female':\n",
    "        return 0   \n",
    "    # Return 1 if value is 'male'    \n",
    "    elif value == 'male':\n",
    "        return 1    \n",
    "    # Return np.nan    \n",
    "    else:\n",
    "        return np.nan\n",
    "    \n",
    "# Define recode_Embarked()\n",
    "def recode_Embarked(value):\n",
    "    # Return 0 if value is 'C = Cherbourg'\n",
    "    if value == 'C':\n",
    "        return 'Cherbourg'   \n",
    "    # Return 1 if value is 'Q = Queenstown'    \n",
    "    elif value == 'Q':\n",
    "        return 'Queenstown'\n",
    "    # Return 2 if value is 'S = Southampton'    \n",
    "    elif value == 'S':\n",
    "        return 'Southampton'  \n",
    "    # Return np.nan    \n",
    "    else:\n",
    "        return np.nan\n",
    "\n",
    "for dataset in dataset_cleaning:\n",
    "    dataset['Sex']=dataset['Sex'].apply(recode_Sex)\n",
    "    dataset['Embarked']=dataset['Embarked'].apply(recode_Embarked)\n",
    "\n"
   ]
  },
  {
   "cell_type": "code",
   "execution_count": 7,
   "metadata": {},
   "outputs": [
    {
     "data": {
      "text/html": [
       "<div>\n",
       "<style scoped>\n",
       "    .dataframe tbody tr th:only-of-type {\n",
       "        vertical-align: middle;\n",
       "    }\n",
       "\n",
       "    .dataframe tbody tr th {\n",
       "        vertical-align: top;\n",
       "    }\n",
       "\n",
       "    .dataframe thead th {\n",
       "        text-align: right;\n",
       "    }\n",
       "</style>\n",
       "<table border=\"1\" class=\"dataframe\">\n",
       "  <thead>\n",
       "    <tr style=\"text-align: right;\">\n",
       "      <th></th>\n",
       "      <th>PassengerId</th>\n",
       "      <th>Survived</th>\n",
       "      <th>Pclass</th>\n",
       "      <th>Name</th>\n",
       "      <th>Sex</th>\n",
       "      <th>Age</th>\n",
       "      <th>SibSp</th>\n",
       "      <th>Parch</th>\n",
       "      <th>Ticket</th>\n",
       "      <th>Fare</th>\n",
       "      <th>Cabin</th>\n",
       "      <th>Embarked</th>\n",
       "    </tr>\n",
       "  </thead>\n",
       "  <tbody>\n",
       "    <tr>\n",
       "      <th>61</th>\n",
       "      <td>62</td>\n",
       "      <td>1</td>\n",
       "      <td>1</td>\n",
       "      <td>Icard, Miss. Amelie</td>\n",
       "      <td>0</td>\n",
       "      <td>38.0</td>\n",
       "      <td>0</td>\n",
       "      <td>0</td>\n",
       "      <td>113572</td>\n",
       "      <td>80.0</td>\n",
       "      <td>B28</td>\n",
       "      <td>NaN</td>\n",
       "    </tr>\n",
       "    <tr>\n",
       "      <th>829</th>\n",
       "      <td>830</td>\n",
       "      <td>1</td>\n",
       "      <td>1</td>\n",
       "      <td>Stone, Mrs. George Nelson (Martha Evelyn)</td>\n",
       "      <td>0</td>\n",
       "      <td>62.0</td>\n",
       "      <td>0</td>\n",
       "      <td>0</td>\n",
       "      <td>113572</td>\n",
       "      <td>80.0</td>\n",
       "      <td>B28</td>\n",
       "      <td>NaN</td>\n",
       "    </tr>\n",
       "  </tbody>\n",
       "</table>\n",
       "</div>"
      ],
      "text/plain": [
       "     PassengerId  Survived  Pclass                                       Name  \\\n",
       "61            62         1       1                        Icard, Miss. Amelie   \n",
       "829          830         1       1  Stone, Mrs. George Nelson (Martha Evelyn)   \n",
       "\n",
       "     Sex   Age  SibSp  Parch  Ticket  Fare Cabin Embarked  \n",
       "61     0  38.0      0      0  113572  80.0   B28      NaN  \n",
       "829    0  62.0      0      0  113572  80.0   B28      NaN  "
      ]
     },
     "execution_count": 7,
     "metadata": {},
     "output_type": "execute_result"
    }
   ],
   "source": [
    "train.loc[train['Embarked'].isnull()]"
   ]
  },
  {
   "cell_type": "markdown",
   "metadata": {},
   "source": [
    "Features that contain NaN values include: Age, Cabin, Embarked\n",
    "\n",
    "For Cabin, NaN should be replaced by 0 to indicate that the passenger was travelling without a cabin\n",
    "\n",
    "For Age, NaN value can be replaced by the mean value of the sub group based on sex and title (To be completed after further investigation in the dataset)\n",
    "\n",
    "For Embarked, since the observations that are related to the 2 NaN values have most of the features repeated except for Age and Name, it is believed that there might be errors involved when entering the data. As such, removing the two particular entries should be acceptable\n"
   ]
  },
  {
   "cell_type": "code",
   "execution_count": 8,
   "metadata": {},
   "outputs": [],
   "source": [
    "for dataset in dataset_cleaning:\n",
    "    dataset['With_Cabin']=dataset['Cabin'].apply(lambda x: 0 if type(x) == float else 1)\n",
    "\n",
    "train=train.dropna(subset=['Embarked'])\n",
    "predict_set=predict_set.dropna(subset=['Embarked'])"
   ]
  },
  {
   "cell_type": "code",
   "execution_count": 9,
   "metadata": {},
   "outputs": [],
   "source": [
    "train = pd.concat([train, pd.get_dummies(train['Embarked'],drop_first=True,prefix='Embarked')], axis=1)\n",
    "predict_set = pd.concat([predict_set, pd.get_dummies(predict_set['Embarked'],drop_first=True,prefix='Embarked')], axis=1)"
   ]
  },
  {
   "cell_type": "markdown",
   "metadata": {},
   "source": [
    "Extract and clean the titles from the passenger's name"
   ]
  },
  {
   "cell_type": "code",
   "execution_count": 10,
   "metadata": {},
   "outputs": [
    {
     "data": {
      "text/plain": [
       "{'Mr': 517,\n",
       " 'Mrs': 124,\n",
       " 'Miss': 181,\n",
       " 'Master': 40,\n",
       " 'Don': 1,\n",
       " 'Rev': 6,\n",
       " 'Dr': 7,\n",
       " 'Mme': 1,\n",
       " 'Ms': 1,\n",
       " 'Major': 2,\n",
       " 'Lady': 1,\n",
       " 'Sir': 1,\n",
       " 'Mlle': 2,\n",
       " 'Col': 2,\n",
       " 'Capt': 1,\n",
       " 'Countess': 1,\n",
       " 'Jonkheer': 1}"
      ]
     },
     "execution_count": 10,
     "metadata": {},
     "output_type": "execute_result"
    }
   ],
   "source": [
    "train['Title']=train['Name'].apply(lambda x: re.search('([A-Za-z]+)\\.', x).group(1))\n",
    "train['Title']=train['Title'].astype('category')\n",
    "\n",
    "predict_set['Title']=predict_set['Name'].apply(lambda x: re.search('([A-Za-z]+)\\.', x).group(1))\n",
    "predict_set['Title']=predict_set['Title'].astype('category')\n",
    "\n",
    "def Frequency_table(data):\n",
    "    frequencytable = {}\n",
    "    for key in data:\n",
    "        if key in frequencytable:\n",
    "            frequencytable[key] += 1\n",
    "        else:\n",
    "            frequencytable[key] = 1\n",
    "    return frequencytable\n",
    "\n",
    "Frequency_table(train['Title'])\n",
    "\n"
   ]
  },
  {
   "cell_type": "code",
   "execution_count": 11,
   "metadata": {},
   "outputs": [],
   "source": [
    "# Duplicate the column of Title and named it as Title_cleaned\n",
    "train['Title_cleaned']=train['Title']\n",
    "# Converting French title to English title\n",
    "train['Title_cleaned']=train['Title_cleaned'].replace(['Mlle','Ms'],'Miss')\n",
    "train['Title_cleaned']=train['Title_cleaned'].replace(['Mme'],'Mrs')\n",
    "# Group all other title as 'Other'\n",
    "train['Title_cleaned']=train['Title_cleaned'].replace(['Capt','Col','Countess','Don','Dr','Jonkheer','Lady','Major','Rev','Sir'],'Other')\n",
    "    \n",
    "# Duplicate the column of Title and named it as Title_cleaned\n",
    "predict_set['Title_cleaned']=predict_set['Title']\n",
    "# Converting French title to English title\n",
    "predict_set['Title_cleaned']=predict_set['Title_cleaned'].replace(['Mlle','Ms'],'Miss')\n",
    "predict_set['Title_cleaned']=predict_set['Title_cleaned'].replace(['Mme'],'Mrs')\n",
    "# Group all other title as 'Other'\n",
    "predict_set['Title_cleaned']=predict_set['Title_cleaned'].replace(['Capt','Col','Countess','Don','Dr','Jonkheer','Lady','Major','Rev','Sir'],'Other')\n",
    "\n",
    "train = pd.concat([train, pd.get_dummies(train['Title_cleaned'],drop_first=True,prefix='Title')], axis=1)\n",
    "predict_set = pd.concat([predict_set, pd.get_dummies(predict_set['Title_cleaned'],drop_first=True,prefix='Title')], axis=1)"
   ]
  },
  {
   "cell_type": "code",
   "execution_count": 12,
   "metadata": {},
   "outputs": [
    {
     "name": "stdout",
     "output_type": "stream",
     "text": [
      "<class 'pandas.core.frame.DataFrame'>\n",
      "Int64Index: 418 entries, 0 to 417\n",
      "Data columns (total 21 columns):\n",
      "PassengerId             418 non-null int64\n",
      "Pclass                  418 non-null int64\n",
      "Name                    418 non-null object\n",
      "Sex                     418 non-null int64\n",
      "Age                     332 non-null float64\n",
      "SibSp                   418 non-null int64\n",
      "Parch                   418 non-null int64\n",
      "Ticket                  418 non-null object\n",
      "Fare                    417 non-null float64\n",
      "Cabin                   91 non-null object\n",
      "Embarked                418 non-null object\n",
      "With_Cabin              418 non-null int64\n",
      "Embarked_Queenstown     418 non-null uint8\n",
      "Embarked_Southampton    418 non-null uint8\n",
      "Title                   418 non-null category\n",
      "Title_cleaned           418 non-null object\n",
      "Title_Master            418 non-null uint8\n",
      "Title_Miss              418 non-null uint8\n",
      "Title_Mr                418 non-null uint8\n",
      "Title_Mrs               418 non-null uint8\n",
      "Title_Other             418 non-null uint8\n",
      "dtypes: category(1), float64(2), int64(6), object(5), uint8(7)\n",
      "memory usage: 49.4+ KB\n"
     ]
    }
   ],
   "source": [
    "predict_set.info()"
   ]
  },
  {
   "cell_type": "markdown",
   "metadata": {},
   "source": [
    "Fill NaN of age with the mean age according to title group"
   ]
  },
  {
   "cell_type": "code",
   "execution_count": 13,
   "metadata": {},
   "outputs": [],
   "source": [
    "age_mean_0=train[train['Title_cleaned']=='Master']['Age'].mean()\n",
    "age_mean_1=train[train['Title_cleaned']=='Miss']['Age'].mean()\n",
    "age_mean_2=train[train['Title_cleaned']=='Mr']['Age'].mean()\n",
    "age_mean_3=train[train['Title_cleaned']=='Mrs']['Age'].mean()\n",
    "age_mean_4=train[train['Title_cleaned']=='Other']['Age'].mean()\n",
    "\n",
    "age_mean_list=[age_mean_0,age_mean_1,age_mean_2,age_mean_3,age_mean_4]\n",
    "\n",
    "\n",
    "for row in range(0,len(train.index)):\n",
    "    if np.isnan(train.iloc[row]['Age']):\n",
    "        if train.loc[row,'Title_cleaned'] == 'Master':\n",
    "             train.iat[row,5]=age_mean_list[0]\n",
    "        elif train.loc[row,'Title_cleaned'] == 'Miss':\n",
    "             train.iat[row,5]=age_mean_list[1]\n",
    "        elif train.loc[row,'Title_cleaned'] == 'Mr':\n",
    "             train.iat[row,5]=age_mean_list[2]\n",
    "        elif train.loc[row,'Title_cleaned'] == 'Mrs':\n",
    "             train.iat[row,5]=age_mean_list[3]\n",
    "        elif train.loc[row,'Title_cleaned'] == 'Other':\n",
    "             train.iat[row,5]=age_mean_list[4]"
   ]
  },
  {
   "cell_type": "code",
   "execution_count": 14,
   "metadata": {},
   "outputs": [],
   "source": [
    "for row in range(0,len(predict_set.index)):\n",
    "    if np.isnan(predict_set.iloc[row]['Age']):\n",
    "        if predict_set.loc[row,'Title_cleaned'] == 'Master':\n",
    "            predict_set.iat[row,4]=age_mean_list[0]\n",
    "        elif predict_set.loc[row,'Title_cleaned'] == 'Miss':\n",
    "            predict_set.iat[row,4]=age_mean_list[1]\n",
    "        elif predict_set.loc[row,'Title_cleaned'] == 'Mr':\n",
    "            predict_set.iat[row,4]=age_mean_list[2]\n",
    "        elif predict_set.loc[row,'Title_cleaned'] == 'Mrs':\n",
    "            predict_set.iat[row,4]=age_mean_list[3]\n",
    "        elif predict_set.loc[row,'Title_cleaned'] == 'Other':\n",
    "            predict_set.iat[row,4]=age_mean_list[4]\n",
    "\n"
   ]
  },
  {
   "cell_type": "markdown",
   "metadata": {},
   "source": [
    "Drop duplicated entries, if any."
   ]
  },
  {
   "cell_type": "code",
   "execution_count": 15,
   "metadata": {},
   "outputs": [
    {
     "name": "stdout",
     "output_type": "stream",
     "text": [
      "<class 'pandas.core.frame.DataFrame'>\n",
      "Int64Index: 889 entries, 0 to 890\n",
      "Data columns (total 21 columns):\n",
      "PassengerId             889 non-null int64\n",
      "Survived                889 non-null int64\n",
      "Pclass                  889 non-null int64\n",
      "Name                    889 non-null object\n",
      "Sex                     889 non-null int64\n",
      "Age                     889 non-null float64\n",
      "SibSp                   889 non-null int64\n",
      "Parch                   889 non-null int64\n",
      "Ticket                  889 non-null object\n",
      "Fare                    889 non-null float64\n",
      "Cabin                   202 non-null object\n",
      "Embarked                889 non-null object\n",
      "With_Cabin              889 non-null int64\n",
      "Embarked_Queenstown     889 non-null uint8\n",
      "Embarked_Southampton    889 non-null uint8\n",
      "Title                   889 non-null category\n",
      "Title_cleaned           889 non-null object\n",
      "Title_Miss              889 non-null uint8\n",
      "Title_Mr                889 non-null uint8\n",
      "Title_Mrs               889 non-null uint8\n",
      "Title_Other             889 non-null uint8\n",
      "dtypes: category(1), float64(2), int64(7), object(5), uint8(6)\n",
      "memory usage: 111.0+ KB\n"
     ]
    }
   ],
   "source": [
    "train=train.drop_duplicates()\n",
    "train.info()"
   ]
  },
  {
   "cell_type": "code",
   "execution_count": 16,
   "metadata": {},
   "outputs": [
    {
     "name": "stdout",
     "output_type": "stream",
     "text": [
      "<class 'pandas.core.frame.DataFrame'>\n",
      "Int64Index: 418 entries, 0 to 417\n",
      "Data columns (total 21 columns):\n",
      "PassengerId             418 non-null int64\n",
      "Pclass                  418 non-null int64\n",
      "Name                    418 non-null object\n",
      "Sex                     418 non-null int64\n",
      "Age                     418 non-null float64\n",
      "SibSp                   418 non-null int64\n",
      "Parch                   418 non-null int64\n",
      "Ticket                  418 non-null object\n",
      "Fare                    417 non-null float64\n",
      "Cabin                   91 non-null object\n",
      "Embarked                418 non-null object\n",
      "With_Cabin              418 non-null int64\n",
      "Embarked_Queenstown     418 non-null uint8\n",
      "Embarked_Southampton    418 non-null uint8\n",
      "Title                   418 non-null category\n",
      "Title_cleaned           418 non-null object\n",
      "Title_Master            418 non-null uint8\n",
      "Title_Miss              418 non-null uint8\n",
      "Title_Mr                418 non-null uint8\n",
      "Title_Mrs               418 non-null uint8\n",
      "Title_Other             418 non-null uint8\n",
      "dtypes: category(1), float64(2), int64(6), object(5), uint8(7)\n",
      "memory usage: 69.4+ KB\n"
     ]
    }
   ],
   "source": [
    "predict_set.info()"
   ]
  },
  {
   "cell_type": "code",
   "execution_count": 17,
   "metadata": {},
   "outputs": [],
   "source": [
    "# Fill the NAN values in predict_set['Fare'] with the average\n",
    "predict_set['Fare'].fillna(predict_set['Fare'].mean(), inplace = True)"
   ]
  },
  {
   "cell_type": "code",
   "execution_count": 18,
   "metadata": {},
   "outputs": [
    {
     "data": {
      "text/html": [
       "<div>\n",
       "<style scoped>\n",
       "    .dataframe tbody tr th:only-of-type {\n",
       "        vertical-align: middle;\n",
       "    }\n",
       "\n",
       "    .dataframe tbody tr th {\n",
       "        vertical-align: top;\n",
       "    }\n",
       "\n",
       "    .dataframe thead th {\n",
       "        text-align: right;\n",
       "    }\n",
       "</style>\n",
       "<table border=\"1\" class=\"dataframe\">\n",
       "  <thead>\n",
       "    <tr style=\"text-align: right;\">\n",
       "      <th></th>\n",
       "      <th>PassengerId</th>\n",
       "      <th>Survived</th>\n",
       "      <th>Pclass</th>\n",
       "      <th>Name</th>\n",
       "      <th>Sex</th>\n",
       "      <th>Age</th>\n",
       "      <th>SibSp</th>\n",
       "      <th>Parch</th>\n",
       "      <th>Ticket</th>\n",
       "      <th>Fare</th>\n",
       "      <th>...</th>\n",
       "      <th>Embarked</th>\n",
       "      <th>With_Cabin</th>\n",
       "      <th>Embarked_Queenstown</th>\n",
       "      <th>Embarked_Southampton</th>\n",
       "      <th>Title</th>\n",
       "      <th>Title_cleaned</th>\n",
       "      <th>Title_Miss</th>\n",
       "      <th>Title_Mr</th>\n",
       "      <th>Title_Mrs</th>\n",
       "      <th>Title_Other</th>\n",
       "    </tr>\n",
       "  </thead>\n",
       "  <tbody>\n",
       "    <tr>\n",
       "      <th>0</th>\n",
       "      <td>1</td>\n",
       "      <td>0</td>\n",
       "      <td>3</td>\n",
       "      <td>Braund, Mr. Owen Harris</td>\n",
       "      <td>1</td>\n",
       "      <td>22.0</td>\n",
       "      <td>1</td>\n",
       "      <td>0</td>\n",
       "      <td>A/5 21171</td>\n",
       "      <td>7.2500</td>\n",
       "      <td>...</td>\n",
       "      <td>Southampton</td>\n",
       "      <td>0</td>\n",
       "      <td>0</td>\n",
       "      <td>1</td>\n",
       "      <td>Mr</td>\n",
       "      <td>Mr</td>\n",
       "      <td>0</td>\n",
       "      <td>1</td>\n",
       "      <td>0</td>\n",
       "      <td>0</td>\n",
       "    </tr>\n",
       "    <tr>\n",
       "      <th>1</th>\n",
       "      <td>2</td>\n",
       "      <td>1</td>\n",
       "      <td>1</td>\n",
       "      <td>Cumings, Mrs. John Bradley (Florence Briggs Th...</td>\n",
       "      <td>0</td>\n",
       "      <td>38.0</td>\n",
       "      <td>1</td>\n",
       "      <td>0</td>\n",
       "      <td>PC 17599</td>\n",
       "      <td>71.2833</td>\n",
       "      <td>...</td>\n",
       "      <td>Cherbourg</td>\n",
       "      <td>1</td>\n",
       "      <td>0</td>\n",
       "      <td>0</td>\n",
       "      <td>Mrs</td>\n",
       "      <td>Mrs</td>\n",
       "      <td>0</td>\n",
       "      <td>0</td>\n",
       "      <td>1</td>\n",
       "      <td>0</td>\n",
       "    </tr>\n",
       "    <tr>\n",
       "      <th>2</th>\n",
       "      <td>3</td>\n",
       "      <td>1</td>\n",
       "      <td>3</td>\n",
       "      <td>Heikkinen, Miss. Laina</td>\n",
       "      <td>0</td>\n",
       "      <td>26.0</td>\n",
       "      <td>0</td>\n",
       "      <td>0</td>\n",
       "      <td>STON/O2. 3101282</td>\n",
       "      <td>7.9250</td>\n",
       "      <td>...</td>\n",
       "      <td>Southampton</td>\n",
       "      <td>0</td>\n",
       "      <td>0</td>\n",
       "      <td>1</td>\n",
       "      <td>Miss</td>\n",
       "      <td>Miss</td>\n",
       "      <td>1</td>\n",
       "      <td>0</td>\n",
       "      <td>0</td>\n",
       "      <td>0</td>\n",
       "    </tr>\n",
       "  </tbody>\n",
       "</table>\n",
       "<p>3 rows × 21 columns</p>\n",
       "</div>"
      ],
      "text/plain": [
       "   PassengerId  Survived  Pclass  \\\n",
       "0            1         0       3   \n",
       "1            2         1       1   \n",
       "2            3         1       3   \n",
       "\n",
       "                                                Name  Sex   Age  SibSp  Parch  \\\n",
       "0                            Braund, Mr. Owen Harris    1  22.0      1      0   \n",
       "1  Cumings, Mrs. John Bradley (Florence Briggs Th...    0  38.0      1      0   \n",
       "2                             Heikkinen, Miss. Laina    0  26.0      0      0   \n",
       "\n",
       "             Ticket     Fare  ...     Embarked With_Cabin  \\\n",
       "0         A/5 21171   7.2500  ...  Southampton          0   \n",
       "1          PC 17599  71.2833  ...    Cherbourg          1   \n",
       "2  STON/O2. 3101282   7.9250  ...  Southampton          0   \n",
       "\n",
       "   Embarked_Queenstown  Embarked_Southampton  Title Title_cleaned Title_Miss  \\\n",
       "0                    0                     1     Mr            Mr          0   \n",
       "1                    0                     0    Mrs           Mrs          0   \n",
       "2                    0                     1   Miss          Miss          1   \n",
       "\n",
       "   Title_Mr  Title_Mrs  Title_Other  \n",
       "0         1          0            0  \n",
       "1         0          1            0  \n",
       "2         0          0            0  \n",
       "\n",
       "[3 rows x 21 columns]"
      ]
     },
     "execution_count": 18,
     "metadata": {},
     "output_type": "execute_result"
    }
   ],
   "source": [
    "train.head(3)"
   ]
  },
  {
   "cell_type": "code",
   "execution_count": 19,
   "metadata": {},
   "outputs": [],
   "source": [
    "#Select features to be included in the logistic model\n",
    "\n",
    "feature=['Pclass','Sex','Age','SibSp','Parch','Fare','With_Cabin','Embarked_Queenstown','Embarked_Southampton','Title_Miss','Title_Mr','Title_Mrs','Title_Other']\n"
   ]
  },
  {
   "cell_type": "code",
   "execution_count": 20,
   "metadata": {},
   "outputs": [
    {
     "name": "stdout",
     "output_type": "stream",
     "text": [
      "Tuned Logistic Regression Parameter: {'C': 31.622776601683793, 'penalty': 'l1'}\n",
      "Tuned Logistic Regression Accuracy: 0.8263665594855305\n"
     ]
    }
   ],
   "source": [
    "# Create the hyperparameter grid\n",
    "c_space = np.logspace(-5, 8, 15)\n",
    "param_grid = {'C': c_space, 'penalty': ['l1', 'l2']}\n",
    "\n",
    "# Instantiate the logistic regression classifier: logreg\n",
    "logreg = LogisticRegression(solver='liblinear')\n",
    "\n",
    "# Create train and test sets\n",
    "X_train, X_test, y_train, y_test = train_test_split(train[feature],train['Survived'],test_size=0.3,random_state=42)\n",
    "\n",
    "# Instantiate the GridSearchCV object: logreg_cv\n",
    "logreg_cv = GridSearchCV(logreg,param_grid,cv=5)\n",
    "\n",
    "# Fit it to the training data\n",
    "logreg_cv.fit(X_train,y_train)\n",
    "\n",
    "# Print the optimal parameters and best score\n",
    "print(\"Tuned Logistic Regression Parameter: {}\".format(logreg_cv.best_params_))\n",
    "print(\"Tuned Logistic Regression Accuracy: {}\".format(logreg_cv.best_score_))"
   ]
  },
  {
   "cell_type": "code",
   "execution_count": null,
   "metadata": {},
   "outputs": [],
   "source": [
    "# Make prediction for sumbission \n",
    "predict_set['Survived']=logreg_cv.predict(predict_set[feature])\n",
    "predict_set[['PassengerId', 'Survived']].to_csv('C:/Users/kpleu/Desktop/Git/Kaggle_Titanic/Submission/logreg.csv', index=False)"
   ]
  },
  {
   "cell_type": "code",
   "execution_count": null,
   "metadata": {},
   "outputs": [],
   "source": []
  }
 ],
 "metadata": {
  "kernelspec": {
   "display_name": "Python 3",
   "language": "python",
   "name": "python3"
  },
  "language_info": {
   "codemirror_mode": {
    "name": "ipython",
    "version": 3
   },
   "file_extension": ".py",
   "mimetype": "text/x-python",
   "name": "python",
   "nbconvert_exporter": "python",
   "pygments_lexer": "ipython3",
   "version": "3.7.3"
  }
 },
 "nbformat": 4,
 "nbformat_minor": 2
}
